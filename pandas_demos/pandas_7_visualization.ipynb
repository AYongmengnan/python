{
 "cells": [
  {
   "cell_type": "markdown",
   "metadata": {},
   "source": [
    "# 基于pandas的数据可视化"
   ]
  },
  {
   "cell_type": "code",
   "execution_count": 2,
   "metadata": {},
   "outputs": [],
   "source": [
    "%matplotlib inline \n",
    "#图片直接画在网页里面\n",
    "import pandas as pd\n",
    "import numpy as np"
   ]
  },
  {
   "cell_type": "code",
   "execution_count": 3,
   "metadata": {
    "collapsed": true
   },
   "outputs": [],
   "source": [
    "# 线形图的画法\n",
    "ts = pd.Series(np.random.randn(1000), index=pd.date_range('2000/1/1', periods=1000))"
   ]
  },
  {
   "cell_type": "code",
   "execution_count": 4,
   "metadata": {},
   "outputs": [
    {
     "data": {
      "text/plain": [
       "2000-01-01    -0.885214\n",
       "2000-01-02    -0.003865\n",
       "2000-01-03    -0.098502\n",
       "2000-01-04     1.018444\n",
       "2000-01-05     1.475170\n",
       "2000-01-06    -0.019528\n",
       "2000-01-07     0.151470\n",
       "2000-01-08    -0.543431\n",
       "2000-01-09    -0.270579\n",
       "2000-01-10     0.677821\n",
       "2000-01-11     2.771281\n",
       "2000-01-12     3.649866\n",
       "2000-01-13     4.001163\n",
       "2000-01-14     3.207959\n",
       "2000-01-15     2.429311\n",
       "2000-01-16     3.125629\n",
       "2000-01-17     4.072247\n",
       "2000-01-18     4.802534\n",
       "2000-01-19     5.136990\n",
       "2000-01-20     5.509247\n",
       "2000-01-21     5.827376\n",
       "2000-01-22     4.863966\n",
       "2000-01-23     4.831006\n",
       "2000-01-24     2.019943\n",
       "2000-01-25     0.371737\n",
       "2000-01-26     1.384343\n",
       "2000-01-27     0.603847\n",
       "2000-01-28    -0.404607\n",
       "2000-01-29     1.263749\n",
       "2000-01-30     0.128345\n",
       "                ...    \n",
       "2002-08-28   -63.312920\n",
       "2002-08-29   -65.043494\n",
       "2002-08-30   -65.145546\n",
       "2002-08-31   -66.784407\n",
       "2002-09-01   -68.290305\n",
       "2002-09-02   -68.613165\n",
       "2002-09-03   -68.720295\n",
       "2002-09-04   -68.935542\n",
       "2002-09-05   -68.105567\n",
       "2002-09-06   -68.080736\n",
       "2002-09-07   -68.752096\n",
       "2002-09-08   -69.159858\n",
       "2002-09-09   -69.514502\n",
       "2002-09-10   -69.466207\n",
       "2002-09-11   -67.837047\n",
       "2002-09-12   -69.787665\n",
       "2002-09-13   -71.290211\n",
       "2002-09-14   -72.961594\n",
       "2002-09-15   -70.810578\n",
       "2002-09-16   -71.428329\n",
       "2002-09-17   -70.618216\n",
       "2002-09-18   -70.616647\n",
       "2002-09-19   -69.888615\n",
       "2002-09-20   -70.383523\n",
       "2002-09-21   -71.951253\n",
       "2002-09-22   -72.657505\n",
       "2002-09-23   -73.577732\n",
       "2002-09-24   -75.833383\n",
       "2002-09-25   -75.135737\n",
       "2002-09-26   -75.490288\n",
       "Freq: D, Length: 1000, dtype: float64"
      ]
     },
     "execution_count": 4,
     "metadata": {},
     "output_type": "execute_result"
    }
   ],
   "source": [
    "ts = ts.cumsum() # 进行累积求和,全部加起来为1000\n",
    "ts"
   ]
  },
  {
   "cell_type": "code",
   "execution_count": 5,
   "metadata": {},
   "outputs": [
    {
     "data": {
      "text/plain": [
       "count    1000.000000\n",
       "mean      -13.308516\n",
       "std        22.876900\n",
       "min       -75.833383\n",
       "25%       -24.654504\n",
       "50%        -5.526650\n",
       "75%         2.025071\n",
       "max        20.939956\n",
       "dtype: float64"
      ]
     },
     "execution_count": 5,
     "metadata": {},
     "output_type": "execute_result"
    }
   ],
   "source": [
    "ts.describe()"
   ]
  },
  {
   "cell_type": "code",
   "execution_count": 8,
   "metadata": {},
   "outputs": [
    {
     "data": {
      "text/plain": [
       "<matplotlib.axes._subplots.AxesSubplot at 0x9e7f518>"
      ]
     },
     "execution_count": 8,
     "metadata": {},
     "output_type": "execute_result"
    },
    {
     "data": {
      "image/png": "[encoded data removed]",
      "text/plain": [
       "<matplotlib.figure.Figure at 0x9f95748>"
      ]
     },
     "metadata": {},
     "output_type": "display_data"
    }
   ],
   "source": [
    "ts.plot(title='cumsum', style='r-', figsize=(8, 6))#尺寸为英寸"
   ]
  },
  {
   "cell_type": "code",
   "execution_count": 9,
   "metadata": {},
   "outputs": [
    {
     "data": {
      "text/html": [
       "<div>\n",
       "<style>\n",
       "    .dataframe thead tr:only-child th {\n",
       "        text-align: right;\n",
       "    }\n",
       "\n",
       "    .dataframe thead th {\n",
       "        text-align: left;\n",
       "    }\n",
       "\n",
       "    .dataframe tbody tr th {\n",
       "        vertical-align: top;\n",
       "    }\n",
       "</style>\n",
       "<table border=\"1\" class=\"dataframe\">\n",
       "  <thead>\n",
       "    <tr style=\"text-align: right;\">\n",
       "      <th></th>\n",
       "      <th>A</th>\n",
       "      <th>B</th>\n",
       "      <th>C</th>\n",
       "      <th>D</th>\n",
       "    </tr>\n",
       "  </thead>\n",
       "  <tbody>\n",
       "    <tr>\n",
       "      <th>count</th>\n",
       "      <td>1000.000000</td>\n",
       "      <td>1000.000000</td>\n",
       "      <td>1000.000000</td>\n",
       "      <td>1000.000000</td>\n",
       "    </tr>\n",
       "    <tr>\n",
       "      <th>mean</th>\n",
       "      <td>-17.514972</td>\n",
       "      <td>16.656293</td>\n",
       "      <td>-18.725358</td>\n",
       "      <td>1.719392</td>\n",
       "    </tr>\n",
       "    <tr>\n",
       "      <th>std</th>\n",
       "      <td>12.925406</td>\n",
       "      <td>14.046021</td>\n",
       "      <td>15.527622</td>\n",
       "      <td>7.727402</td>\n",
       "    </tr>\n",
       "    <tr>\n",
       "      <th>min</th>\n",
       "      <td>-39.847011</td>\n",
       "      <td>-15.696090</td>\n",
       "      <td>-45.936371</td>\n",
       "      <td>-9.848659</td>\n",
       "    </tr>\n",
       "    <tr>\n",
       "      <th>25%</th>\n",
       "      <td>-30.411148</td>\n",
       "      <td>7.975227</td>\n",
       "      <td>-34.287405</td>\n",
       "      <td>-3.774240</td>\n",
       "    </tr>\n",
       "    <tr>\n",
       "      <th>50%</th>\n",
       "      <td>-16.188689</td>\n",
       "      <td>16.140076</td>\n",
       "      <td>-16.040494</td>\n",
       "      <td>0.092359</td>\n",
       "    </tr>\n",
       "    <tr>\n",
       "      <th>75%</th>\n",
       "      <td>-6.261588</td>\n",
       "      <td>27.207313</td>\n",
       "      <td>-5.835948</td>\n",
       "      <td>4.039049</td>\n",
       "    </tr>\n",
       "    <tr>\n",
       "      <th>max</th>\n",
       "      <td>9.885197</td>\n",
       "      <td>47.422336</td>\n",
       "      <td>9.422126</td>\n",
       "      <td>24.830878</td>\n",
       "    </tr>\n",
       "  </tbody>\n",
       "</table>\n",
       "</div>"
      ],
      "text/plain": [
       "                 A            B            C            D\n",
       "count  1000.000000  1000.000000  1000.000000  1000.000000\n",
       "mean    -17.514972    16.656293   -18.725358     1.719392\n",
       "std      12.925406    14.046021    15.527622     7.727402\n",
       "min     -39.847011   -15.696090   -45.936371    -9.848659\n",
       "25%     -30.411148     7.975227   -34.287405    -3.774240\n",
       "50%     -16.188689    16.140076   -16.040494     0.092359\n",
       "75%      -6.261588    27.207313    -5.835948     4.039049\n",
       "max       9.885197    47.422336     9.422126    24.830878"
      ]
     },
     "execution_count": 9,
     "metadata": {},
     "output_type": "execute_result"
    }
   ],
   "source": [
    "df = pd.DataFrame(np.random.randn(1000, 4), index=ts.index, columns=list('ABCD'))\n",
    "df = df.cumsum()\n",
    "df.describe()"
   ]
  },
  {
   "cell_type": "code",
   "execution_count": 10,
   "metadata": {},
   "outputs": [
    {
     "data": {
      "text/plain": [
       "<matplotlib.axes._subplots.AxesSubplot at 0xb07ea90>"
      ]
     },
     "execution_count": 10,
     "metadata": {},
     "output_type": "execute_result"
    },
    {
     "data": {
      "image/png": "[encoded data removed]",
      "text/plain": [
       "<matplotlib.figure.Figure at 0x55797b8>"
      ]
     },
     "metadata": {},
     "output_type": "display_data"
    }
   ],
   "source": [
    "df.plot()"
   ]
  },
  {
   "cell_type": "code",
   "execution_count": 12,
   "metadata": {},
   "outputs": [
    {
     "data": {
      "text/plain": [
       "array([<matplotlib.axes._subplots.AxesSubplot object at 0x000000000B463828>,\n",
       "       <matplotlib.axes._subplots.AxesSubplot object at 0x000000000B659860>,\n",
       "       <matplotlib.axes._subplots.AxesSubplot object at 0x000000000B66B438>,\n",
       "       <matplotlib.axes._subplots.AxesSubplot object at 0x000000000B727438>], dtype=object)"
      ]
     },
     "execution_count": 12,
     "metadata": {},
     "output_type": "execute_result"
    },
    {
     "data": {
      "image/png": "[encoded data removed]",
      "text/plain": [
       "<matplotlib.figure.Figure at 0x98bcb38>"
      ]
     },
     "metadata": {},
     "output_type": "display_data"
    }
   ],
   "source": [
    "df.plot(subplots=True, figsize=(6,12))# 分成四个子图"
   ]
  },
  {
   "cell_type": "code",
   "execution_count": 13,
   "metadata": {},
   "outputs": [
    {
     "data": {
      "text/html": [
       "<div>\n",
       "<style>\n",
       "    .dataframe thead tr:only-child th {\n",
       "        text-align: right;\n",
       "    }\n",
       "\n",
       "    .dataframe thead th {\n",
       "        text-align: left;\n",
       "    }\n",
       "\n",
       "    .dataframe tbody tr th {\n",
       "        vertical-align: top;\n",
       "    }\n",
       "</style>\n",
       "<table border=\"1\" class=\"dataframe\">\n",
       "  <thead>\n",
       "    <tr style=\"text-align: right;\">\n",
       "      <th></th>\n",
       "      <th>A</th>\n",
       "      <th>B</th>\n",
       "      <th>C</th>\n",
       "      <th>D</th>\n",
       "      <th>ID</th>\n",
       "    </tr>\n",
       "  </thead>\n",
       "  <tbody>\n",
       "    <tr>\n",
       "      <th>count</th>\n",
       "      <td>1000.000000</td>\n",
       "      <td>1000.000000</td>\n",
       "      <td>1000.000000</td>\n",
       "      <td>1000.000000</td>\n",
       "      <td>1000.000000</td>\n",
       "    </tr>\n",
       "    <tr>\n",
       "      <th>mean</th>\n",
       "      <td>-17.514972</td>\n",
       "      <td>16.656293</td>\n",
       "      <td>-18.725358</td>\n",
       "      <td>1.719392</td>\n",
       "      <td>499.500000</td>\n",
       "    </tr>\n",
       "    <tr>\n",
       "      <th>std</th>\n",
       "      <td>12.925406</td>\n",
       "      <td>14.046021</td>\n",
       "      <td>15.527622</td>\n",
       "      <td>7.727402</td>\n",
       "      <td>288.819436</td>\n",
       "    </tr>\n",
       "    <tr>\n",
       "      <th>min</th>\n",
       "      <td>-39.847011</td>\n",
       "      <td>-15.696090</td>\n",
       "      <td>-45.936371</td>\n",
       "      <td>-9.848659</td>\n",
       "      <td>0.000000</td>\n",
       "    </tr>\n",
       "    <tr>\n",
       "      <th>25%</th>\n",
       "      <td>-30.411148</td>\n",
       "      <td>7.975227</td>\n",
       "      <td>-34.287405</td>\n",
       "      <td>-3.774240</td>\n",
       "      <td>249.750000</td>\n",
       "    </tr>\n",
       "    <tr>\n",
       "      <th>50%</th>\n",
       "      <td>-16.188689</td>\n",
       "      <td>16.140076</td>\n",
       "      <td>-16.040494</td>\n",
       "      <td>0.092359</td>\n",
       "      <td>499.500000</td>\n",
       "    </tr>\n",
       "    <tr>\n",
       "      <th>75%</th>\n",
       "      <td>-6.261588</td>\n",
       "      <td>27.207313</td>\n",
       "      <td>-5.835948</td>\n",
       "      <td>4.039049</td>\n",
       "      <td>749.250000</td>\n",
       "    </tr>\n",
       "    <tr>\n",
       "      <th>max</th>\n",
       "      <td>9.885197</td>\n",
       "      <td>47.422336</td>\n",
       "      <td>9.422126</td>\n",
       "      <td>24.830878</td>\n",
       "      <td>999.000000</td>\n",
       "    </tr>\n",
       "  </tbody>\n",
       "</table>\n",
       "</div>"
      ],
      "text/plain": [
       "                 A            B            C            D           ID\n",
       "count  1000.000000  1000.000000  1000.000000  1000.000000  1000.000000\n",
       "mean    -17.514972    16.656293   -18.725358     1.719392   499.500000\n",
       "std      12.925406    14.046021    15.527622     7.727402   288.819436\n",
       "min     -39.847011   -15.696090   -45.936371    -9.848659     0.000000\n",
       "25%     -30.411148     7.975227   -34.287405    -3.774240   249.750000\n",
       "50%     -16.188689    16.140076   -16.040494     0.092359   499.500000\n",
       "75%      -6.261588    27.207313    -5.835948     4.039049   749.250000\n",
       "max       9.885197    47.422336     9.422126    24.830878   999.000000"
      ]
     },
     "execution_count": 13,
     "metadata": {},
     "output_type": "execute_result"
    }
   ],
   "source": [
    "df['ID'] = np.arange(len(df))\n",
    "df.describe()"
   ]
  },
  {
   "cell_type": "code",
   "execution_count": 14,
   "metadata": {},
   "outputs": [
    {
     "data": {
      "text/plain": [
       "<matplotlib.axes._subplots.AxesSubplot at 0xbb3f320>"
      ]
     },
     "execution_count": 14,
     "metadata": {},
     "output_type": "execute_result"
    },
    {
     "data": {
      "image/png": "[encoded data removed]",
      "text/plain": [
       "<matplotlib.figure.Figure at 0xb944e10>"
      ]
     },
     "metadata": {},
     "output_type": "display_data"
    }
   ],
   "source": [
    "df.plot(x='ID', y=['A', 'C'])# 令x为id，且值画出A,C两列"
   ]
  },
  {
   "cell_type": "code",
   "execution_count": 20,
   "metadata": {},
   "outputs": [],
   "source": [
    "# 柱状图\n",
    "df = pd.DataFrame(np.random.rand(10, 4), columns=list('ABCD'))"
   ]
  },
  {
   "cell_type": "code",
   "execution_count": 21,
   "metadata": {},
   "outputs": [
    {
     "data": {
      "text/html": [
       "<div>\n",
       "<style>\n",
       "    .dataframe thead tr:only-child th {\n",
       "        text-align: right;\n",
       "    }\n",
       "\n",
       "    .dataframe thead th {\n",
       "        text-align: left;\n",
       "    }\n",
       "\n",
       "    .dataframe tbody tr th {\n",
       "        vertical-align: top;\n",
       "    }\n",
       "</style>\n",
       "<table border=\"1\" class=\"dataframe\">\n",
       "  <thead>\n",
       "    <tr style=\"text-align: right;\">\n",
       "      <th></th>\n",
       "      <th>A</th>\n",
       "      <th>B</th>\n",
       "      <th>C</th>\n",
       "      <th>D</th>\n",
       "    </tr>\n",
       "  </thead>\n",
       "  <tbody>\n",
       "    <tr>\n",
       "      <th>0</th>\n",
       "      <td>0.056052</td>\n",
       "      <td>0.270731</td>\n",
       "      <td>0.501479</td>\n",
       "      <td>0.121491</td>\n",
       "    </tr>\n",
       "    <tr>\n",
       "      <th>1</th>\n",
       "      <td>0.770889</td>\n",
       "      <td>0.202760</td>\n",
       "      <td>0.180484</td>\n",
       "      <td>0.993555</td>\n",
       "    </tr>\n",
       "    <tr>\n",
       "      <th>2</th>\n",
       "      <td>0.417544</td>\n",
       "      <td>0.766556</td>\n",
       "      <td>0.138167</td>\n",
       "      <td>0.899541</td>\n",
       "    </tr>\n",
       "    <tr>\n",
       "      <th>3</th>\n",
       "      <td>0.040076</td>\n",
       "      <td>0.309443</td>\n",
       "      <td>0.443105</td>\n",
       "      <td>0.238431</td>\n",
       "    </tr>\n",
       "    <tr>\n",
       "      <th>4</th>\n",
       "      <td>0.050177</td>\n",
       "      <td>0.261979</td>\n",
       "      <td>0.759423</td>\n",
       "      <td>0.372617</td>\n",
       "    </tr>\n",
       "    <tr>\n",
       "      <th>5</th>\n",
       "      <td>0.834048</td>\n",
       "      <td>0.535997</td>\n",
       "      <td>0.057551</td>\n",
       "      <td>0.905784</td>\n",
       "    </tr>\n",
       "    <tr>\n",
       "      <th>6</th>\n",
       "      <td>0.971209</td>\n",
       "      <td>0.889872</td>\n",
       "      <td>0.847377</td>\n",
       "      <td>0.687034</td>\n",
       "    </tr>\n",
       "    <tr>\n",
       "      <th>7</th>\n",
       "      <td>0.167992</td>\n",
       "      <td>0.380885</td>\n",
       "      <td>0.561302</td>\n",
       "      <td>0.427273</td>\n",
       "    </tr>\n",
       "    <tr>\n",
       "      <th>8</th>\n",
       "      <td>0.151904</td>\n",
       "      <td>0.953608</td>\n",
       "      <td>0.112884</td>\n",
       "      <td>0.121209</td>\n",
       "    </tr>\n",
       "    <tr>\n",
       "      <th>9</th>\n",
       "      <td>0.435228</td>\n",
       "      <td>0.268943</td>\n",
       "      <td>0.265371</td>\n",
       "      <td>0.844899</td>\n",
       "    </tr>\n",
       "  </tbody>\n",
       "</table>\n",
       "</div>"
      ],
      "text/plain": [
       "          A         B         C         D\n",
       "0  0.056052  0.270731  0.501479  0.121491\n",
       "1  0.770889  0.202760  0.180484  0.993555\n",
       "2  0.417544  0.766556  0.138167  0.899541\n",
       "3  0.040076  0.309443  0.443105  0.238431\n",
       "4  0.050177  0.261979  0.759423  0.372617\n",
       "5  0.834048  0.535997  0.057551  0.905784\n",
       "6  0.971209  0.889872  0.847377  0.687034\n",
       "7  0.167992  0.380885  0.561302  0.427273\n",
       "8  0.151904  0.953608  0.112884  0.121209\n",
       "9  0.435228  0.268943  0.265371  0.844899"
      ]
     },
     "execution_count": 21,
     "metadata": {},
     "output_type": "execute_result"
    }
   ],
   "source": [
    "df"
   ]
  },
  {
   "cell_type": "code",
   "execution_count": 23,
   "metadata": {},
   "outputs": [
    {
     "data": {
      "text/plain": [
       "<matplotlib.axes._subplots.AxesSubplot at 0xb5e1358>"
      ]
     },
     "execution_count": 23,
     "metadata": {},
     "output_type": "execute_result"
    },
    {
     "data": {
      "image/png": "[encoded data removed]",
      "text/plain": [
       "<matplotlib.figure.Figure at 0xbf07c88>"
      ]
     },
     "metadata": {},
     "output_type": "display_data"
    }
   ],
   "source": [
    "#选择第一行画柱状图\n",
    "df.iloc[0].plot(kind='bar')"
   ]
  },
  {
   "cell_type": "code",
   "execution_count": 24,
   "metadata": {},
   "outputs": [
    {
     "data": {
      "text/plain": [
       "<matplotlib.axes._subplots.AxesSubplot at 0xc1a8438>"
      ]
     },
     "execution_count": 24,
     "metadata": {},
     "output_type": "execute_result"
    },
    {
     "data": {
      "image/png": "[encoded data removed]",
      "text/plain": [
       "<matplotlib.figure.Figure at 0xc200da0>"
      ]
     },
     "metadata": {},
     "output_type": "display_data"
    }
   ],
   "source": [
    "df.plot.bar()"
   ]
  },
  {
   "cell_type": "code",
   "execution_count": 25,
   "metadata": {
    "collapsed": true
   },
   "outputs": [],
   "source": [
    "#直方图\n",
    "df = pd.DataFrame({'a': np.random.randn(1000) + 1, 'b': np.random.randn(1000),\n",
    "                   'c': np.random.randn(1000) - 1}, columns=list('abc'))"
   ]
  },
  {
   "cell_type": "code",
   "execution_count": 26,
   "metadata": {},
   "outputs": [
    {
     "data": {
      "text/html": [
       "<div>\n",
       "<style>\n",
       "    .dataframe thead tr:only-child th {\n",
       "        text-align: right;\n",
       "    }\n",
       "\n",
       "    .dataframe thead th {\n",
       "        text-align: left;\n",
       "    }\n",
       "\n",
       "    .dataframe tbody tr th {\n",
       "        vertical-align: top;\n",
       "    }\n",
       "</style>\n",
       "<table border=\"1\" class=\"dataframe\">\n",
       "  <thead>\n",
       "    <tr style=\"text-align: right;\">\n",
       "      <th></th>\n",
       "      <th>a</th>\n",
       "      <th>b</th>\n",
       "      <th>c</th>\n",
       "    </tr>\n",
       "  </thead>\n",
       "  <tbody>\n",
       "    <tr>\n",
       "      <th>0</th>\n",
       "      <td>0.902516</td>\n",
       "      <td>0.175676</td>\n",
       "      <td>1.483543</td>\n",
       "    </tr>\n",
       "    <tr>\n",
       "      <th>1</th>\n",
       "      <td>0.478951</td>\n",
       "      <td>1.328754</td>\n",
       "      <td>-0.851907</td>\n",
       "    </tr>\n",
       "    <tr>\n",
       "      <th>2</th>\n",
       "      <td>2.228000</td>\n",
       "      <td>0.245072</td>\n",
       "      <td>-1.666804</td>\n",
       "    </tr>\n",
       "    <tr>\n",
       "      <th>3</th>\n",
       "      <td>-0.671145</td>\n",
       "      <td>0.077473</td>\n",
       "      <td>-1.417179</td>\n",
       "    </tr>\n",
       "    <tr>\n",
       "      <th>4</th>\n",
       "      <td>2.362950</td>\n",
       "      <td>2.218906</td>\n",
       "      <td>-1.709990</td>\n",
       "    </tr>\n",
       "    <tr>\n",
       "      <th>5</th>\n",
       "      <td>0.737309</td>\n",
       "      <td>0.438842</td>\n",
       "      <td>0.228325</td>\n",
       "    </tr>\n",
       "    <tr>\n",
       "      <th>6</th>\n",
       "      <td>2.797012</td>\n",
       "      <td>-1.099154</td>\n",
       "      <td>-0.959350</td>\n",
       "    </tr>\n",
       "    <tr>\n",
       "      <th>7</th>\n",
       "      <td>-0.171808</td>\n",
       "      <td>-0.860008</td>\n",
       "      <td>0.152194</td>\n",
       "    </tr>\n",
       "    <tr>\n",
       "      <th>8</th>\n",
       "      <td>-0.798960</td>\n",
       "      <td>1.207589</td>\n",
       "      <td>-1.897559</td>\n",
       "    </tr>\n",
       "    <tr>\n",
       "      <th>9</th>\n",
       "      <td>0.246295</td>\n",
       "      <td>-0.527606</td>\n",
       "      <td>-1.686985</td>\n",
       "    </tr>\n",
       "    <tr>\n",
       "      <th>10</th>\n",
       "      <td>1.176455</td>\n",
       "      <td>0.022385</td>\n",
       "      <td>-1.166454</td>\n",
       "    </tr>\n",
       "    <tr>\n",
       "      <th>11</th>\n",
       "      <td>0.286695</td>\n",
       "      <td>-1.057058</td>\n",
       "      <td>-0.698135</td>\n",
       "    </tr>\n",
       "    <tr>\n",
       "      <th>12</th>\n",
       "      <td>2.377497</td>\n",
       "      <td>-0.162845</td>\n",
       "      <td>-1.860837</td>\n",
       "    </tr>\n",
       "    <tr>\n",
       "      <th>13</th>\n",
       "      <td>0.144571</td>\n",
       "      <td>-0.243156</td>\n",
       "      <td>-1.068962</td>\n",
       "    </tr>\n",
       "    <tr>\n",
       "      <th>14</th>\n",
       "      <td>1.722664</td>\n",
       "      <td>1.718185</td>\n",
       "      <td>-1.613482</td>\n",
       "    </tr>\n",
       "    <tr>\n",
       "      <th>15</th>\n",
       "      <td>1.653760</td>\n",
       "      <td>0.104450</td>\n",
       "      <td>-1.363017</td>\n",
       "    </tr>\n",
       "    <tr>\n",
       "      <th>16</th>\n",
       "      <td>0.685858</td>\n",
       "      <td>-0.114899</td>\n",
       "      <td>-2.107467</td>\n",
       "    </tr>\n",
       "    <tr>\n",
       "      <th>17</th>\n",
       "      <td>-0.486439</td>\n",
       "      <td>-0.360206</td>\n",
       "      <td>-0.445543</td>\n",
       "    </tr>\n",
       "    <tr>\n",
       "      <th>18</th>\n",
       "      <td>1.781253</td>\n",
       "      <td>0.283704</td>\n",
       "      <td>-0.150148</td>\n",
       "    </tr>\n",
       "    <tr>\n",
       "      <th>19</th>\n",
       "      <td>0.800762</td>\n",
       "      <td>-2.064701</td>\n",
       "      <td>-1.511736</td>\n",
       "    </tr>\n",
       "    <tr>\n",
       "      <th>20</th>\n",
       "      <td>2.286883</td>\n",
       "      <td>-0.780590</td>\n",
       "      <td>-1.500596</td>\n",
       "    </tr>\n",
       "    <tr>\n",
       "      <th>21</th>\n",
       "      <td>0.195284</td>\n",
       "      <td>-0.752629</td>\n",
       "      <td>-0.923704</td>\n",
       "    </tr>\n",
       "    <tr>\n",
       "      <th>22</th>\n",
       "      <td>0.742926</td>\n",
       "      <td>-0.042106</td>\n",
       "      <td>-3.756551</td>\n",
       "    </tr>\n",
       "    <tr>\n",
       "      <th>23</th>\n",
       "      <td>0.455913</td>\n",
       "      <td>0.029757</td>\n",
       "      <td>-0.054625</td>\n",
       "    </tr>\n",
       "    <tr>\n",
       "      <th>24</th>\n",
       "      <td>2.572510</td>\n",
       "      <td>-0.008689</td>\n",
       "      <td>0.342152</td>\n",
       "    </tr>\n",
       "    <tr>\n",
       "      <th>25</th>\n",
       "      <td>0.985690</td>\n",
       "      <td>-2.318387</td>\n",
       "      <td>-0.477687</td>\n",
       "    </tr>\n",
       "    <tr>\n",
       "      <th>26</th>\n",
       "      <td>0.929524</td>\n",
       "      <td>1.532749</td>\n",
       "      <td>0.655247</td>\n",
       "    </tr>\n",
       "    <tr>\n",
       "      <th>27</th>\n",
       "      <td>0.447383</td>\n",
       "      <td>-2.219183</td>\n",
       "      <td>-0.534641</td>\n",
       "    </tr>\n",
       "    <tr>\n",
       "      <th>28</th>\n",
       "      <td>1.191666</td>\n",
       "      <td>-0.297792</td>\n",
       "      <td>-0.011257</td>\n",
       "    </tr>\n",
       "    <tr>\n",
       "      <th>29</th>\n",
       "      <td>1.354626</td>\n",
       "      <td>2.018627</td>\n",
       "      <td>-0.076992</td>\n",
       "    </tr>\n",
       "    <tr>\n",
       "      <th>...</th>\n",
       "      <td>...</td>\n",
       "      <td>...</td>\n",
       "      <td>...</td>\n",
       "    </tr>\n",
       "    <tr>\n",
       "      <th>970</th>\n",
       "      <td>0.407728</td>\n",
       "      <td>2.085965</td>\n",
       "      <td>-2.103196</td>\n",
       "    </tr>\n",
       "    <tr>\n",
       "      <th>971</th>\n",
       "      <td>0.359136</td>\n",
       "      <td>2.733992</td>\n",
       "      <td>-1.320279</td>\n",
       "    </tr>\n",
       "    <tr>\n",
       "      <th>972</th>\n",
       "      <td>0.417185</td>\n",
       "      <td>0.221353</td>\n",
       "      <td>-2.147104</td>\n",
       "    </tr>\n",
       "    <tr>\n",
       "      <th>973</th>\n",
       "      <td>0.136460</td>\n",
       "      <td>-0.292955</td>\n",
       "      <td>-0.419654</td>\n",
       "    </tr>\n",
       "    <tr>\n",
       "      <th>974</th>\n",
       "      <td>1.265829</td>\n",
       "      <td>-0.164987</td>\n",
       "      <td>-0.207629</td>\n",
       "    </tr>\n",
       "    <tr>\n",
       "      <th>975</th>\n",
       "      <td>0.506537</td>\n",
       "      <td>0.175918</td>\n",
       "      <td>-2.613428</td>\n",
       "    </tr>\n",
       "    <tr>\n",
       "      <th>976</th>\n",
       "      <td>-0.108547</td>\n",
       "      <td>-1.401323</td>\n",
       "      <td>-1.974330</td>\n",
       "    </tr>\n",
       "    <tr>\n",
       "      <th>977</th>\n",
       "      <td>1.820644</td>\n",
       "      <td>0.290291</td>\n",
       "      <td>1.289072</td>\n",
       "    </tr>\n",
       "    <tr>\n",
       "      <th>978</th>\n",
       "      <td>2.967953</td>\n",
       "      <td>0.392798</td>\n",
       "      <td>-0.789165</td>\n",
       "    </tr>\n",
       "    <tr>\n",
       "      <th>979</th>\n",
       "      <td>0.602913</td>\n",
       "      <td>2.204997</td>\n",
       "      <td>-0.019203</td>\n",
       "    </tr>\n",
       "    <tr>\n",
       "      <th>980</th>\n",
       "      <td>-0.141408</td>\n",
       "      <td>-1.279475</td>\n",
       "      <td>0.609118</td>\n",
       "    </tr>\n",
       "    <tr>\n",
       "      <th>981</th>\n",
       "      <td>0.606991</td>\n",
       "      <td>0.169109</td>\n",
       "      <td>-1.056976</td>\n",
       "    </tr>\n",
       "    <tr>\n",
       "      <th>982</th>\n",
       "      <td>2.789760</td>\n",
       "      <td>-0.939981</td>\n",
       "      <td>-1.040596</td>\n",
       "    </tr>\n",
       "    <tr>\n",
       "      <th>983</th>\n",
       "      <td>0.739975</td>\n",
       "      <td>0.682669</td>\n",
       "      <td>-1.714606</td>\n",
       "    </tr>\n",
       "    <tr>\n",
       "      <th>984</th>\n",
       "      <td>1.391463</td>\n",
       "      <td>-0.777806</td>\n",
       "      <td>-1.324724</td>\n",
       "    </tr>\n",
       "    <tr>\n",
       "      <th>985</th>\n",
       "      <td>1.053105</td>\n",
       "      <td>-0.233702</td>\n",
       "      <td>-0.461921</td>\n",
       "    </tr>\n",
       "    <tr>\n",
       "      <th>986</th>\n",
       "      <td>1.036363</td>\n",
       "      <td>0.360254</td>\n",
       "      <td>-1.510835</td>\n",
       "    </tr>\n",
       "    <tr>\n",
       "      <th>987</th>\n",
       "      <td>0.358614</td>\n",
       "      <td>-1.459633</td>\n",
       "      <td>-0.746510</td>\n",
       "    </tr>\n",
       "    <tr>\n",
       "      <th>988</th>\n",
       "      <td>-0.330285</td>\n",
       "      <td>-1.225116</td>\n",
       "      <td>-2.303197</td>\n",
       "    </tr>\n",
       "    <tr>\n",
       "      <th>989</th>\n",
       "      <td>0.753958</td>\n",
       "      <td>-1.415398</td>\n",
       "      <td>-2.378918</td>\n",
       "    </tr>\n",
       "    <tr>\n",
       "      <th>990</th>\n",
       "      <td>1.510093</td>\n",
       "      <td>-1.583183</td>\n",
       "      <td>-1.237777</td>\n",
       "    </tr>\n",
       "    <tr>\n",
       "      <th>991</th>\n",
       "      <td>3.753660</td>\n",
       "      <td>-1.531003</td>\n",
       "      <td>-1.714068</td>\n",
       "    </tr>\n",
       "    <tr>\n",
       "      <th>992</th>\n",
       "      <td>0.453235</td>\n",
       "      <td>0.584928</td>\n",
       "      <td>-1.399745</td>\n",
       "    </tr>\n",
       "    <tr>\n",
       "      <th>993</th>\n",
       "      <td>0.795076</td>\n",
       "      <td>0.527118</td>\n",
       "      <td>-1.619733</td>\n",
       "    </tr>\n",
       "    <tr>\n",
       "      <th>994</th>\n",
       "      <td>0.984648</td>\n",
       "      <td>0.594569</td>\n",
       "      <td>-0.245926</td>\n",
       "    </tr>\n",
       "    <tr>\n",
       "      <th>995</th>\n",
       "      <td>1.396739</td>\n",
       "      <td>0.341086</td>\n",
       "      <td>-0.035345</td>\n",
       "    </tr>\n",
       "    <tr>\n",
       "      <th>996</th>\n",
       "      <td>0.400282</td>\n",
       "      <td>-2.415888</td>\n",
       "      <td>-1.145578</td>\n",
       "    </tr>\n",
       "    <tr>\n",
       "      <th>997</th>\n",
       "      <td>2.882134</td>\n",
       "      <td>-0.376131</td>\n",
       "      <td>0.343833</td>\n",
       "    </tr>\n",
       "    <tr>\n",
       "      <th>998</th>\n",
       "      <td>0.960795</td>\n",
       "      <td>-0.174517</td>\n",
       "      <td>-0.803174</td>\n",
       "    </tr>\n",
       "    <tr>\n",
       "      <th>999</th>\n",
       "      <td>0.342726</td>\n",
       "      <td>0.641715</td>\n",
       "      <td>-0.527754</td>\n",
       "    </tr>\n",
       "  </tbody>\n",
       "</table>\n",
       "<p>1000 rows × 3 columns</p>\n",
       "</div>"
      ],
      "text/plain": [
       "            a         b         c\n",
       "0    0.902516  0.175676  1.483543\n",
       "1    0.478951  1.328754 -0.851907\n",
       "2    2.228000  0.245072 -1.666804\n",
       "3   -0.671145  0.077473 -1.417179\n",
       "4    2.362950  2.218906 -1.709990\n",
       "5    0.737309  0.438842  0.228325\n",
       "6    2.797012 -1.099154 -0.959350\n",
       "7   -0.171808 -0.860008  0.152194\n",
       "8   -0.798960  1.207589 -1.897559\n",
       "9    0.246295 -0.527606 -1.686985\n",
       "10   1.176455  0.022385 -1.166454\n",
       "11   0.286695 -1.057058 -0.698135\n",
       "12   2.377497 -0.162845 -1.860837\n",
       "13   0.144571 -0.243156 -1.068962\n",
       "14   1.722664  1.718185 -1.613482\n",
       "15   1.653760  0.104450 -1.363017\n",
       "16   0.685858 -0.114899 -2.107467\n",
       "17  -0.486439 -0.360206 -0.445543\n",
       "18   1.781253  0.283704 -0.150148\n",
       "19   0.800762 -2.064701 -1.511736\n",
       "20   2.286883 -0.780590 -1.500596\n",
       "21   0.195284 -0.752629 -0.923704\n",
       "22   0.742926 -0.042106 -3.756551\n",
       "23   0.455913  0.029757 -0.054625\n",
       "24   2.572510 -0.008689  0.342152\n",
       "25   0.985690 -2.318387 -0.477687\n",
       "26   0.929524  1.532749  0.655247\n",
       "27   0.447383 -2.219183 -0.534641\n",
       "28   1.191666 -0.297792 -0.011257\n",
       "29   1.354626  2.018627 -0.076992\n",
       "..        ...       ...       ...\n",
       "970  0.407728  2.085965 -2.103196\n",
       "971  0.359136  2.733992 -1.320279\n",
       "972  0.417185  0.221353 -2.147104\n",
       "973  0.136460 -0.292955 -0.419654\n",
       "974  1.265829 -0.164987 -0.207629\n",
       "975  0.506537  0.175918 -2.613428\n",
       "976 -0.108547 -1.401323 -1.974330\n",
       "977  1.820644  0.290291  1.289072\n",
       "978  2.967953  0.392798 -0.789165\n",
       "979  0.602913  2.204997 -0.019203\n",
       "980 -0.141408 -1.279475  0.609118\n",
       "981  0.606991  0.169109 -1.056976\n",
       "982  2.789760 -0.939981 -1.040596\n",
       "983  0.739975  0.682669 -1.714606\n",
       "984  1.391463 -0.777806 -1.324724\n",
       "985  1.053105 -0.233702 -0.461921\n",
       "986  1.036363  0.360254 -1.510835\n",
       "987  0.358614 -1.459633 -0.746510\n",
       "988 -0.330285 -1.225116 -2.303197\n",
       "989  0.753958 -1.415398 -2.378918\n",
       "990  1.510093 -1.583183 -1.237777\n",
       "991  3.753660 -1.531003 -1.714068\n",
       "992  0.453235  0.584928 -1.399745\n",
       "993  0.795076  0.527118 -1.619733\n",
       "994  0.984648  0.594569 -0.245926\n",
       "995  1.396739  0.341086 -0.035345\n",
       "996  0.400282 -2.415888 -1.145578\n",
       "997  2.882134 -0.376131  0.343833\n",
       "998  0.960795 -0.174517 -0.803174\n",
       "999  0.342726  0.641715 -0.527754\n",
       "\n",
       "[1000 rows x 3 columns]"
      ]
     },
     "execution_count": 26,
     "metadata": {},
     "output_type": "execute_result"
    }
   ],
   "source": [
    "df"
   ]
  },
  {
   "cell_type": "code",
   "execution_count": 28,
   "metadata": {},
   "outputs": [
    {
     "data": {
      "text/plain": [
       "<matplotlib.axes._subplots.AxesSubplot at 0xd6486d8>"
      ]
     },
     "execution_count": 28,
     "metadata": {},
     "output_type": "execute_result"
    },
    {
     "data": {
      "image/png": "[encoded data removed]",
      "text/plain": [
       "<matplotlib.figure.Figure at 0xd5eed30>"
      ]
     },
     "metadata": {},
     "output_type": "display_data"
    }
   ],
   "source": [
    "df['a'].hist(bins=20)"
   ]
  },
  {
   "cell_type": "code",
   "execution_count": 30,
   "metadata": {},
   "outputs": [
    {
     "data": {
      "text/plain": [
       "array([<matplotlib.axes._subplots.AxesSubplot object at 0x000000000D7A6EB8>,\n",
       "       <matplotlib.axes._subplots.AxesSubplot object at 0x000000000D96FA20>,\n",
       "       <matplotlib.axes._subplots.AxesSubplot object at 0x000000000D92B080>], dtype=object)"
      ]
     },
     "execution_count": 30,
     "metadata": {},
     "output_type": "execute_result"
    },
    {
     "data": {
      "image/png": "[encoded data removed]",
      "text/plain": [
       "<matplotlib.figure.Figure at 0xd620320>"
      ]
     },
     "metadata": {},
     "output_type": "display_data"
    }
   ],
   "source": [
    "df.plot.hist(subplots=True, sharex=True, sharey=True)# 叠加stacked"
   ]
  },
  {
   "cell_type": "code",
   "execution_count": 32,
   "metadata": {},
   "outputs": [
    {
     "data": {
      "text/plain": [
       "<matplotlib.axes._subplots.AxesSubplot at 0xdabcda0>"
      ]
     },
     "execution_count": 32,
     "metadata": {},
     "output_type": "execute_result"
    },
    {
     "data": {
      "image/png": "[encoded data removed]",
      "text/plain": [
       "<matplotlib.figure.Figure at 0xda67a90>"
      ]
     },
     "metadata": {},
     "output_type": "display_data"
    }
   ],
   "source": [
    "# 概率密度函数, 随机数服从正态分布\n",
    "df['a'].plot.kde()"
   ]
  },
  {
   "cell_type": "code",
   "execution_count": 33,
   "metadata": {},
   "outputs": [
    {
     "data": {
      "text/plain": [
       "<matplotlib.axes._subplots.AxesSubplot at 0xe630588>"
      ]
     },
     "execution_count": 33,
     "metadata": {},
     "output_type": "execute_result"
    },
    {
     "data": {
      "image/png": "[encoded data removed]",
      "text/plain": [
       "<matplotlib.figure.Figure at 0xe63d780>"
      ]
     },
     "metadata": {},
     "output_type": "display_data"
    }
   ],
   "source": [
    "df.plot.kde()"
   ]
  },
  {
   "cell_type": "code",
   "execution_count": 34,
   "metadata": {},
   "outputs": [
    {
     "data": {
      "text/plain": [
       "a    0.953547\n",
       "b   -0.019334\n",
       "c   -0.952817\n",
       "dtype: float64"
      ]
     },
     "execution_count": 34,
     "metadata": {},
     "output_type": "execute_result"
    }
   ],
   "source": [
    "df.mean()"
   ]
  },
  {
   "cell_type": "code",
   "execution_count": 35,
   "metadata": {},
   "outputs": [
    {
     "data": {
      "text/plain": [
       "a    1.012600\n",
       "b    1.005920\n",
       "c    1.017547\n",
       "dtype: float64"
      ]
     },
     "execution_count": 35,
     "metadata": {},
     "output_type": "execute_result"
    }
   ],
   "source": [
    "df.std()"
   ]
  },
  {
   "cell_type": "code",
   "execution_count": null,
   "metadata": {
    "collapsed": true
   },
   "outputs": [],
   "source": [
    "# plot.scatter散点图, plot.pie饼图"
   ]
  }
 ],
 "metadata": {
  "kernelspec": {
   "display_name": "Python 3",
   "language": "python",
   "name": "python3"
  },
  "language_info": {
   "codemirror_mode": {
    "name": "ipython",
    "version": 3
   },
   "file_extension": ".py",
   "mimetype": "text/x-python",
   "name": "python",
   "nbconvert_exporter": "python",
   "pygments_lexer": "ipython3",
   "version": "3.6.2"
  }
 },
 "nbformat": 4,
 "nbformat_minor": 2
}
